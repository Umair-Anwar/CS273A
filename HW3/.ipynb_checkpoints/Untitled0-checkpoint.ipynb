{
 "metadata": {
  "name": "",
  "signature": "sha256:480a61f83fafd9111c6a52450d3a81014ae1526eb4f01a61b956bf134e17ba02"
 },
 "nbformat": 3,
 "nbformat_minor": 0,
 "worksheets": []
}